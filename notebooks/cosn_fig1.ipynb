{
 "cells": [
  {
   "cell_type": "markdown",
   "metadata": {},
   "source": [
    "# This is the notebook to make Fig. 3 for COSN manuscript\n",
    "By Xiaobians, Chuanpeng Hu, and Qing Wang(Vincent)"
   ]
  },
  {
   "cell_type": "code",
   "execution_count": 1,
   "metadata": {},
   "outputs": [
    {
     "data": {
      "text/html": [
       "<div>\n",
       "<style scoped>\n",
       "    .dataframe tbody tr th:only-of-type {\n",
       "        vertical-align: middle;\n",
       "    }\n",
       "\n",
       "    .dataframe tbody tr th {\n",
       "        vertical-align: top;\n",
       "    }\n",
       "\n",
       "    .dataframe thead th {\n",
       "        text-align: right;\n",
       "    }\n",
       "</style>\n",
       "<table border=\"1\" class=\"dataframe\">\n",
       "  <thead>\n",
       "    <tr style=\"text-align: right;\">\n",
       "      <th></th>\n",
       "      <th>country</th>\n",
       "      <th>rep_code</th>\n",
       "      <th>developed</th>\n",
       "      <th>platform</th>\n",
       "      <th>full_name</th>\n",
       "    </tr>\n",
       "  </thead>\n",
       "  <tbody>\n",
       "    <tr>\n",
       "      <th>0</th>\n",
       "      <td>UK</td>\n",
       "      <td>GBR</td>\n",
       "      <td>1.0</td>\n",
       "      <td>Reproducibility Network</td>\n",
       "      <td>United Kingdom</td>\n",
       "    </tr>\n",
       "    <tr>\n",
       "      <th>1</th>\n",
       "      <td>UK</td>\n",
       "      <td>GBR</td>\n",
       "      <td>1.0</td>\n",
       "      <td>Reproducibility Network</td>\n",
       "      <td>United Kingdom</td>\n",
       "    </tr>\n",
       "    <tr>\n",
       "      <th>2</th>\n",
       "      <td>UK</td>\n",
       "      <td>GBR</td>\n",
       "      <td>1.0</td>\n",
       "      <td>Reproducibility Network</td>\n",
       "      <td>United Kingdom</td>\n",
       "    </tr>\n",
       "    <tr>\n",
       "      <th>3</th>\n",
       "      <td>UK</td>\n",
       "      <td>GBR</td>\n",
       "      <td>1.0</td>\n",
       "      <td>Reproducibility Network</td>\n",
       "      <td>United Kingdom</td>\n",
       "    </tr>\n",
       "    <tr>\n",
       "      <th>4</th>\n",
       "      <td>UK</td>\n",
       "      <td>GBR</td>\n",
       "      <td>1.0</td>\n",
       "      <td>Reproducibility Network</td>\n",
       "      <td>United Kingdom</td>\n",
       "    </tr>\n",
       "    <tr>\n",
       "      <th>...</th>\n",
       "      <td>...</td>\n",
       "      <td>...</td>\n",
       "      <td>...</td>\n",
       "      <td>...</td>\n",
       "      <td>...</td>\n",
       "    </tr>\n",
       "    <tr>\n",
       "      <th>994</th>\n",
       "      <td>USA</td>\n",
       "      <td>USA</td>\n",
       "      <td>1.0</td>\n",
       "      <td>SIPS</td>\n",
       "      <td>USA</td>\n",
       "    </tr>\n",
       "    <tr>\n",
       "      <th>995</th>\n",
       "      <td>USA</td>\n",
       "      <td>USA</td>\n",
       "      <td>1.0</td>\n",
       "      <td>SIPS</td>\n",
       "      <td>USA</td>\n",
       "    </tr>\n",
       "    <tr>\n",
       "      <th>996</th>\n",
       "      <td>USA</td>\n",
       "      <td>USA</td>\n",
       "      <td>1.0</td>\n",
       "      <td>SIPS</td>\n",
       "      <td>USA</td>\n",
       "    </tr>\n",
       "    <tr>\n",
       "      <th>997</th>\n",
       "      <td>Australia</td>\n",
       "      <td>AUS</td>\n",
       "      <td>1.0</td>\n",
       "      <td>SIPS</td>\n",
       "      <td>Australia</td>\n",
       "    </tr>\n",
       "    <tr>\n",
       "      <th>998</th>\n",
       "      <td>Netherlands</td>\n",
       "      <td>NLD</td>\n",
       "      <td>1.0</td>\n",
       "      <td>SIPS</td>\n",
       "      <td>Netherlands</td>\n",
       "    </tr>\n",
       "  </tbody>\n",
       "</table>\n",
       "<p>999 rows × 5 columns</p>\n",
       "</div>"
      ],
      "text/plain": [
       "         country rep_code  developed                 platform       full_name\n",
       "0             UK      GBR        1.0  Reproducibility Network  United Kingdom\n",
       "1             UK      GBR        1.0  Reproducibility Network  United Kingdom\n",
       "2             UK      GBR        1.0  Reproducibility Network  United Kingdom\n",
       "3             UK      GBR        1.0  Reproducibility Network  United Kingdom\n",
       "4             UK      GBR        1.0  Reproducibility Network  United Kingdom\n",
       "..           ...      ...        ...                      ...             ...\n",
       "994          USA      USA        1.0                     SIPS             USA\n",
       "995          USA      USA        1.0                     SIPS             USA\n",
       "996          USA      USA        1.0                     SIPS             USA\n",
       "997    Australia      AUS        1.0                     SIPS       Australia\n",
       "998  Netherlands      NLD        1.0                     SIPS     Netherlands\n",
       "\n",
       "[999 rows x 5 columns]"
      ]
     },
     "execution_count": 1,
     "metadata": {},
     "output_type": "execute_result"
    }
   ],
   "source": [
    "# from pathlib import Path\n",
    "import sys\n",
    "proj_path_str='..'\n",
    "sys.path.append(proj_path_str)\n",
    "from pathlib import Path\n",
    "import pandas as pd\n",
    "import numpy as np\n",
    "import seaborn as sns\n",
    "from datetime import datetime\n",
    "\n",
    "# Read data\n",
    "data_dir = Path(proj_path_str) / 'data'\n",
    "data_tab_file  = data_dir / 'os_organizations.csv'\n",
    "\n",
    "#\n",
    "data_df = pd.read_csv(data_tab_file, sep=',', header=0, index_col=None)\n",
    "data_df"
   ]
  },
  {
   "cell_type": "code",
   "execution_count": 2,
   "metadata": {},
   "outputs": [
    {
     "data": {
      "text/plain": [
       "array(['Reproducibility Network', 'COS ambassador', 'ReproducibiliTea',\n",
       "       'OSGCN', 'SIPS'], dtype=object)"
      ]
     },
     "execution_count": 2,
     "metadata": {},
     "output_type": "execute_result"
    }
   ],
   "source": [
    "data_df.platform.unique()"
   ]
  },
  {
   "cell_type": "code",
   "execution_count": null,
   "metadata": {},
   "outputs": [],
   "source": []
  }
 ],
 "metadata": {
  "kernelspec": {
   "display_name": "Python 3.9.12 ('base')",
   "language": "python",
   "name": "python3"
  },
  "language_info": {
   "codemirror_mode": {
    "name": "ipython",
    "version": 3
   },
   "file_extension": ".py",
   "mimetype": "text/x-python",
   "name": "python",
   "nbconvert_exporter": "python",
   "pygments_lexer": "ipython3",
   "version": "3.9.12"
  },
  "orig_nbformat": 4,
  "vscode": {
   "interpreter": {
    "hash": "d4d1e4263499bec80672ea0156c357c1ee493ec2b1c70f0acce89fc37c4a6abe"
   }
  }
 },
 "nbformat": 4,
 "nbformat_minor": 2
}
